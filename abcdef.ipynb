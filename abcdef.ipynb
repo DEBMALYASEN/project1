{
 "cells": [
  {
   "cell_type": "code",
   "execution_count": 1,
   "metadata": {},
   "outputs": [],
   "source": [
    "def bSort(arr):\n",
    "    n = len(arr)\n",
    "    c=0\n",
    "    for i in range(n):\n",
    "        for j in range(0, n-i-1):\n",
    "            c+=1\n",
    "            if arr[j] > arr[j+1] :\n",
    "                arr[j], arr[j+1] = arr[j+1], arr[j]\n",
    "    return c "
   ]
  },
  {
   "cell_type": "code",
   "execution_count": 2,
   "metadata": {},
   "outputs": [],
   "source": [
    "f=0\n",
    "def mSort(nlist):\n",
    "    global f\n",
    "    if len(nlist)>1:\n",
    "        \n",
    "        mid = len(nlist)//2\n",
    "        lefthalf = nlist[:mid]\n",
    "        righthalf = nlist[mid:]\n",
    "        f=0\n",
    "        mSort(lefthalf)\n",
    "        mSort(righthalf)\n",
    "        i=j=k=0       \n",
    "        while i < len(lefthalf) and j < len(righthalf):\n",
    "            f+=1\n",
    "            if lefthalf[i] < righthalf[j]:\n",
    "                nlist[k]=lefthalf[i]\n",
    "                i=i+1\n",
    "            else:\n",
    "                nlist[k]=righthalf[j]\n",
    "                j=j+1\n",
    "            k=k+1\n",
    "\n",
    "        while i < len(lefthalf):\n",
    "            f+=1\n",
    "            nlist[k]=lefthalf[i]\n",
    "            i=i+1\n",
    "            k=k+1\n",
    "\n",
    "        while j < len(righthalf):\n",
    "            f+=1\n",
    "            nlist[k]=righthalf[j]\n",
    "            j=j+1\n",
    "            k=k+1\n",
    "    return f\n",
    "\n"
   ]
  },
  {
   "cell_type": "code",
   "execution_count": 8,
   "metadata": {},
   "outputs": [],
   "source": [
    "def cSort(alist, largest):\n",
    "    c = [0]*(largest + 1)\n",
    "    f=0\n",
    "    for i in range(len(alist)):\n",
    "        \n",
    "        c[alist[i]] = c[alist[i]] + 1\n",
    "\n",
    "    c[0] = c[0] - 1\n",
    "    for i in range(1, largest + 1):\n",
    "      \n",
    "        c[i] = c[i] + c[i - 1]\n",
    " \n",
    "    result = [None]*len(alist)\n",
    " \n",
    "\n",
    "    for x in reversed(alist):\n",
    "        result[c[x]] = x\n",
    "        f+=1\n",
    "        c[x] = c[x] - 1\n",
    " \n",
    "    return f\n"
   ]
  },
  {
   "cell_type": "code",
   "execution_count": 9,
   "metadata": {},
   "outputs": [],
   "source": [
    "import random\n",
    "def generatearray(length=0):\n",
    "    return ([random.randint(1,50000)for x in range(length)])"
   ]
  },
  {
   "cell_type": "code",
   "execution_count": 10,
   "metadata": {},
   "outputs": [],
   "source": [
    "elements = list() \n",
    "l=list()\n",
    "m=list()\n",
    "n=list()\n",
    "for i in range(1, 11): \n",
    "    p,q,r=0,0,0\n",
    "    for j in range(100):\n",
    "        a=generatearray(100*i)\n",
    "        x= bSort(a)\n",
    "        y=mSort(a)\n",
    "        z=cSort(a,max(a))\n",
    "        p=p+x\n",
    "        q=q+y\n",
    "        r=r+z\n",
    "    elements.append(len(a)) \n",
    "    l.append(p/100.0)\n",
    "    m.append(q/100.0)\n",
    "    n.append(r/100.0)\n",
    "    \n",
    " \n",
    "    "
   ]
  },
  {
   "cell_type": "markdown",
   "metadata": {},
   "source": [
    "\n"
   ]
  },
  {
   "cell_type": "code",
   "execution_count": 16,
   "metadata": {},
   "outputs": [
    {
     "data": {
      "image/png": "[encoded data removed]",
      "text/plain": [
       "<Figure size 432x288 with 1 Axes>"
      ]
     },
     "metadata": {
      "needs_background": "light"
     },
     "output_type": "display_data"
    }
   ],
   "source": [
    "import matplotlib.pyplot as plt \n",
    "plt.xlabel('length') \n",
    "plt.ylabel('Comparision')\n",
    "plt.plot(elements, l,'r',label='BubbleSort')\n",
    "\n",
    "\n",
    "\n",
    "plt.grid() \n",
    "plt.legend()\n",
    "plt.show()"
   ]
  },
  {
   "cell_type": "code",
   "execution_count": 15,
   "metadata": {},
   "outputs": [
    {
     "data": {
      "image/png": "[encoded data removed]",
      "text/plain": [
       "<Figure size 432x288 with 1 Axes>"
      ]
     },
     "metadata": {
      "needs_background": "light"
     },
     "output_type": "display_data"
    }
   ],
   "source": [
    "import matplotlib.pyplot as plt \n",
    "plt.xlabel('length') \n",
    "plt.ylabel('Comparision')\n",
    "plt.plot(elements,m,'b',label='MergeSort')\n",
    "plt.plot(elements,n,'g',label='CountSort')\n",
    "plt.grid() \n",
    "plt.legend()\n",
    "plt.show()"
   ]
  },
  {
   "cell_type": "code",
   "execution_count": 13,
   "metadata": {},
   "outputs": [
    {
     "data": {
      "text/plain": [
       "[201.0, 401.0, 602.0, 801.0, 1000.0, 1202.0, 1401.0, 1601.0, 1803.0, 2000.0]"
      ]
     },
     "execution_count": 13,
     "metadata": {},
     "output_type": "execute_result"
    }
   ],
   "source": [
    "m"
   ]
  },
  {
   "cell_type": "code",
   "execution_count": 14,
   "metadata": {},
   "outputs": [
    {
     "data": {
      "text/plain": [
       "[100.0, 200.0, 300.0, 400.0, 500.0, 600.0, 700.0, 800.0, 900.0, 1000.0]"
      ]
     },
     "execution_count": 14,
     "metadata": {},
     "output_type": "execute_result"
    }
   ],
   "source": [
    "n\n"
   ]
  },
  {
   "cell_type": "code",
   "execution_count": 58,
   "metadata": {},
   "outputs": [
    {
     "ename": "TypeError",
     "evalue": "'function' object is not subscriptable",
     "output_type": "error",
     "traceback": [
      "\u001b[1;31m---------------------------------------------------------------------------\u001b[0m",
      "\u001b[1;31mTypeError\u001b[0m                                 Traceback (most recent call last)",
      "\u001b[1;32m<ipython-input-58-cc9c25ee584e>\u001b[0m in \u001b[0;36m<module>\u001b[1;34m()\u001b[0m\n\u001b[1;32m----> 1\u001b[1;33m \u001b[0mmSort\u001b[0m\u001b[1;33m[\u001b[0m\u001b[1;36m10\u001b[0m\u001b[1;33m,\u001b[0m\u001b[1;36m11\u001b[0m\u001b[1;33m,\u001b[0m\u001b[1;36m1\u001b[0m\u001b[1;33m,\u001b[0m\u001b[1;36m2\u001b[0m\u001b[1;33m,\u001b[0m\u001b[1;36m3\u001b[0m\u001b[1;33m,\u001b[0m\u001b[1;36m4\u001b[0m\u001b[1;33m,\u001b[0m\u001b[1;36m5\u001b[0m\u001b[1;33m,\u001b[0m\u001b[1;36m6\u001b[0m\u001b[1;33m,\u001b[0m\u001b[1;36m7\u001b[0m\u001b[1;33m,\u001b[0m\u001b[1;36m8\u001b[0m\u001b[1;33m]\u001b[0m\u001b[1;33m\u001b[0m\u001b[0m\n\u001b[0m",
      "\u001b[1;31mTypeError\u001b[0m: 'function' object is not subscriptable"
     ]
    }
   ],
   "source": []
  },
  {
   "cell_type": "code",
   "execution_count": null,
   "metadata": {},
   "outputs": [],
   "source": []
  }
 ],
 "metadata": {
  "kernelspec": {
   "display_name": "Python 3",
   "language": "python",
   "name": "python3"
  },
  "language_info": {
   "codemirror_mode": {
    "name": "ipython",
    "version": 3
   },
   "file_extension": ".py",
   "mimetype": "text/x-python",
   "name": "python",
   "nbconvert_exporter": "python",
   "pygments_lexer": "ipython3",
   "version": "3.7.0"
  }
 },
 "nbformat": 4,
 "nbformat_minor": 2
}
